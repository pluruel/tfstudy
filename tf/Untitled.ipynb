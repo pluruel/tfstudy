{
 "cells": [
  {
   "cell_type": "code",
   "execution_count": 9,
   "metadata": {},
   "outputs": [
    {
     "name": "stdout",
     "output_type": "stream",
     "text": [
      "Done\n"
     ]
    }
   ],
   "source": [
    "from zipfile import ZipFile\n",
    "import os\n",
    "\n",
    "base_folder = \"./data\"\n",
    "file_name = os.path.join(base_folder, 'dnc.zip')\n",
    "data_folder = os.path.join(base_folder, 'dnc')\n",
    "\n",
    "with ZipFile(file_name, 'r') as zip:\n",
    "  zip.extractall(data_folder)\n",
    "\n",
    "print('Done')\n"
   ]
  },
  {
   "cell_type": "code",
   "execution_count": 3,
   "metadata": {},
   "outputs": [
    {
     "name": "stdout",
     "output_type": "stream",
     "text": [
      "Model: \"sequential\"\n",
      "_________________________________________________________________\n",
      "Layer (type)                 Output Shape              Param #   \n",
      "=================================================================\n",
      "conv2d (Conv2D)              (None, 510, 510, 32)      896       \n",
      "_________________________________________________________________\n",
      "max_pooling2d (MaxPooling2D) (None, 255, 255, 32)      0         \n",
      "_________________________________________________________________\n",
      "conv2d_1 (Conv2D)            (None, 253, 253, 64)      18496     \n",
      "_________________________________________________________________\n",
      "max_pooling2d_1 (MaxPooling2 (None, 126, 126, 64)      0         \n",
      "_________________________________________________________________\n",
      "conv2d_2 (Conv2D)            (None, 124, 124, 128)     73856     \n",
      "_________________________________________________________________\n",
      "max_pooling2d_2 (MaxPooling2 (None, 62, 62, 128)       0         \n",
      "_________________________________________________________________\n",
      "conv2d_3 (Conv2D)            (None, 60, 60, 128)       147584    \n",
      "_________________________________________________________________\n",
      "max_pooling2d_3 (MaxPooling2 (None, 30, 30, 128)       0         \n",
      "_________________________________________________________________\n",
      "flatten (Flatten)            (None, 115200)            0         \n",
      "_________________________________________________________________\n",
      "dense (Dense)                (None, 512)               58982912  \n",
      "_________________________________________________________________\n",
      "dense_1 (Dense)              (None, 1)                 513       \n",
      "=================================================================\n",
      "Total params: 59,224,257\n",
      "Trainable params: 59,224,257\n",
      "Non-trainable params: 0\n",
      "_________________________________________________________________\n"
     ]
    }
   ],
   "source": [
    "from tensorflow.keras import models\n",
    "\n",
    "model = models.Sequential()\n",
    "\n",
    "model.add(layers.Conv2D(32, (3, 3), activation='relu', input_shape=(512,512, 3)))\n",
    "model.add(layers.MaxPooling2D((2, 2)))\n",
    "model.add(layers.Conv2D(64, (3, 3), activation='relu'))\n",
    "model.add(layers.MaxPooling2D((2, 2)))\n",
    "model.add(layers.Conv2D(128, (3, 3), activation='relu'))\n",
    "model.add(layers.MaxPooling2D((2, 2)))\n",
    "model.add(layers.Conv2D(128, (3, 3), activation='relu'))\n",
    "model.add(layers.MaxPooling2D((2, 2)))\n",
    "model.add(layers.Flatten())\n",
    "model.add(layers.Dense(512, activation='relu'))\n",
    "model.add(layers.Dense(1, activation='sigmoid'))\n",
    "\n",
    "model.summary()"
   ]
  },
  {
   "cell_type": "code",
   "execution_count": 4,
   "metadata": {},
   "outputs": [],
   "source": [
    "from tensorflow.keras import optimizers\n",
    "\n",
    "model.compile(loss='binary_crossentropy', \n",
    "             optimizer=optimizers.RMSprop(learning_rate=1e-4),\n",
    "             metrics=['acc'])"
   ]
  },
  {
   "cell_type": "code",
   "execution_count": null,
   "metadata": {
    "scrolled": true
   },
   "outputs": [
    {
     "name": "stdout",
     "output_type": "stream",
     "text": [
      "Found 8005 images belonging to 2 classes.\n",
      "Found 2023 images belonging to 2 classes.\n",
      "Epoch 1/30\n",
      "100/100 [==============================] - 17s 171ms/step - loss: 0.5510 - acc: 0.7108 - val_loss: 0.5393 - val_acc: 0.7310\n",
      "Epoch 2/30\n",
      "100/100 [==============================] - 17s 170ms/step - loss: 0.5030 - acc: 0.7597 - val_loss: 0.6190 - val_acc: 0.6720\n",
      "Epoch 3/30\n",
      "100/100 [==============================] - 17s 168ms/step - loss: 0.4827 - acc: 0.7718 - val_loss: 0.6605 - val_acc: 0.6670\n",
      "Epoch 4/30\n",
      "100/100 [==============================] - 17s 168ms/step - loss: 0.4734 - acc: 0.7780 - val_loss: 0.5187 - val_acc: 0.7560\n",
      "Epoch 5/30\n",
      "100/100 [==============================] - 17s 171ms/step - loss: 0.4388 - acc: 0.8070 - val_loss: 0.5195 - val_acc: 0.7510\n",
      "Epoch 6/30\n",
      "100/100 [==============================] - 17s 168ms/step - loss: 0.4359 - acc: 0.8010 - val_loss: 0.5380 - val_acc: 0.7330\n",
      "Epoch 7/30\n",
      "100/100 [==============================] - 17s 168ms/step - loss: 0.4114 - acc: 0.8166 - val_loss: 0.5489 - val_acc: 0.7290\n",
      "Epoch 8/30\n",
      "100/100 [==============================] - 17s 167ms/step - loss: 0.4057 - acc: 0.8205 - val_loss: 0.5602 - val_acc: 0.7440\n",
      "Epoch 9/30\n",
      "100/100 [==============================] - 17s 169ms/step - loss: 0.3832 - acc: 0.8275 - val_loss: 0.5434 - val_acc: 0.7330\n",
      "Epoch 10/30\n",
      "100/100 [==============================] - 17s 170ms/step - loss: 0.3504 - acc: 0.8420 - val_loss: 0.4731 - val_acc: 0.7800\n",
      "Epoch 11/30\n",
      "100/100 [==============================] - 17s 168ms/step - loss: 0.3508 - acc: 0.8520 - val_loss: 0.6435 - val_acc: 0.7230\n",
      "Epoch 12/30\n",
      "100/100 [==============================] - 17s 168ms/step - loss: 0.3503 - acc: 0.8500 - val_loss: 0.4985 - val_acc: 0.7750\n",
      "Epoch 13/30\n",
      "100/100 [==============================] - 17s 168ms/step - loss: 0.3215 - acc: 0.8625 - val_loss: 0.5459 - val_acc: 0.7600\n",
      "Epoch 14/30\n",
      "100/100 [==============================] - 17s 168ms/step - loss: 0.3031 - acc: 0.8700 - val_loss: 0.5348 - val_acc: 0.7630\n",
      "Epoch 15/30\n",
      "100/100 [==============================] - 17s 169ms/step - loss: 0.3145 - acc: 0.8690 - val_loss: 0.4911 - val_acc: 0.7770\n",
      "Epoch 16/30\n",
      "100/100 [==============================] - 17s 171ms/step - loss: 0.2770 - acc: 0.8875 - val_loss: 0.4923 - val_acc: 0.7850\n",
      "Epoch 17/30\n",
      " 88/100 [=========================>....] - ETA: 1s - loss: 0.2754 - acc: 0.8888"
     ]
    }
   ],
   "source": [
    "from keras.preprocessing.image import ImageDataGenerator\n",
    "\n",
    "train_datagen = ImageDataGenerator(rescale=1./255)\n",
    "test_datagen = ImageDataGenerator(rescale=1./255)\n",
    "\n",
    "train_dir = './training_set/training_set'\n",
    "validation_dir = './test_set/test_set'\n",
    "\n",
    "train_generator = train_datagen.flow_from_directory(\n",
    "    train_dir,\n",
    "    target_size=(512, 512),\n",
    "    batch_size=20,\n",
    "    class_mode='binary')\n",
    "\n",
    "validation_generator = test_datagen.flow_from_directory(\n",
    "    validation_dir,\n",
    "    target_size=(512, 512),\n",
    "    batch_size=20,\n",
    "    class_mode='binary')\n",
    "\n",
    "history = model.fit(\n",
    "    train_generator, \n",
    "    steps_per_epoch=100,\n",
    "    epochs=30,\n",
    "    validation_data=validation_generator, \n",
    "    validation_steps=50)\n",
    "\n",
    "model.save('cats_and_dogs_small_1.h5')"
   ]
  },
  {
   "cell_type": "code",
   "execution_count": null,
   "metadata": {},
   "outputs": [],
   "source": []
  }
 ],
 "metadata": {
  "kernelspec": {
   "display_name": "Python 3",
   "language": "python",
   "name": "python3"
  },
  "language_info": {
   "codemirror_mode": {
    "name": "ipython",
    "version": 3
   },
   "file_extension": ".py",
   "mimetype": "text/x-python",
   "name": "python",
   "nbconvert_exporter": "python",
   "pygments_lexer": "ipython3",
   "version": "3.6.9"
  }
 },
 "nbformat": 4,
 "nbformat_minor": 2
}
