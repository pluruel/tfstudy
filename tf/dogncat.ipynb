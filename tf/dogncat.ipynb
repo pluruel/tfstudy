{
 "cells": [
  {
   "cell_type": "code",
   "execution_count": 1,
   "metadata": {},
   "outputs": [
    {
     "name": "stdout",
     "output_type": "stream",
     "text": [
      "Done\n"
     ]
    }
   ],
   "source": [
    "from zipfile import ZipFile\n",
    "import os\n",
    "\n",
    "base_folder = \"./data\"\n",
    "file_name = os.path.join(base_folder, 'dnc.zip')\n",
    "data_folder = os.path.join(base_folder, 'dnc')\n",
    "\n",
    "with ZipFile(file_name, 'r') as zip:\n",
    "  zip.extractall(data_folder)\n",
    "\n",
    "print('Done')\n"
   ]
  },
  {
   "cell_type": "code",
   "execution_count": 1,
   "metadata": {},
   "outputs": [
    {
     "name": "stdout",
     "output_type": "stream",
     "text": [
      "Model: \"sequential\"\n",
      "_________________________________________________________________\n",
      "Layer (type)                 Output Shape              Param #   \n",
      "=================================================================\n",
      "conv2d (Conv2D)              (None, 148, 148, 32)      896       \n",
      "_________________________________________________________________\n",
      "max_pooling2d (MaxPooling2D) (None, 74, 74, 32)        0         \n",
      "_________________________________________________________________\n",
      "conv2d_1 (Conv2D)            (None, 72, 72, 64)        18496     \n",
      "_________________________________________________________________\n",
      "max_pooling2d_1 (MaxPooling2 (None, 36, 36, 64)        0         \n",
      "_________________________________________________________________\n",
      "conv2d_2 (Conv2D)            (None, 34, 34, 128)       73856     \n",
      "_________________________________________________________________\n",
      "max_pooling2d_2 (MaxPooling2 (None, 17, 17, 128)       0         \n",
      "_________________________________________________________________\n",
      "conv2d_3 (Conv2D)            (None, 15, 15, 128)       147584    \n",
      "_________________________________________________________________\n",
      "max_pooling2d_3 (MaxPooling2 (None, 7, 7, 128)         0         \n",
      "_________________________________________________________________\n",
      "flatten (Flatten)            (None, 6272)              0         \n",
      "_________________________________________________________________\n",
      "dense (Dense)                (None, 512)               3211776   \n",
      "_________________________________________________________________\n",
      "dense_1 (Dense)              (None, 1)                 513       \n",
      "=================================================================\n",
      "Total params: 3,453,121\n",
      "Trainable params: 3,453,121\n",
      "Non-trainable params: 0\n",
      "_________________________________________________________________\n"
     ]
    }
   ],
   "source": [
    "from keras import models\n",
    "from keras import layers\n",
    "\n",
    "model = models.Sequential()\n",
    "\n",
    "model.add(layers.Conv2D(32, (3, 3), activation='relu', input_shape=(150, 150, 3)))\n",
    "model.add(layers.MaxPooling2D((2, 2)))\n",
    "model.add(layers.Conv2D(64, (3, 3), activation='relu'))\n",
    "model.add(layers.MaxPooling2D((2, 2)))\n",
    "model.add(layers.Conv2D(128, (3, 3), activation='relu'))\n",
    "model.add(layers.MaxPooling2D((2, 2)))\n",
    "model.add(layers.Conv2D(128, (3, 3), activation='relu'))\n",
    "model.add(layers.MaxPooling2D((2, 2)))\n",
    "model.add(layers.Flatten())\n",
    "model.add(layers.Dense(512, activation='relu'))\n",
    "model.add(layers.Dense(1, activation='sigmoid'))\n",
    "\n",
    "model.summary()"
   ]
  },
  {
   "cell_type": "code",
   "execution_count": 19,
   "metadata": {},
   "outputs": [],
   "source": [
    "from tensorflow.keras import optimizers\n",
    "\n",
    "\n",
    "model.compile(loss='binary_crossentropy', \n",
    "             optimizer=optimizers.RMSprop(learning_rate=1e-4),\n",
    "             metrics=['acc'])"
   ]
  },
  {
   "cell_type": "code",
   "execution_count": 20,
   "metadata": {
    "scrolled": true
   },
   "outputs": [
    {
     "name": "stdout",
     "output_type": "stream",
     "text": [
      "Found 8005 files belonging to 2 classes.\n",
      "Found 2023 files belonging to 2 classes.\n",
      "-1\n",
      "Epoch 1/30\n",
      "100/100 [==============================] - 11s 92ms/step - loss: 2.4464 - acc: 0.5583 - val_loss: 0.6639 - val_acc: 0.6049\n",
      "Epoch 2/30\n",
      "100/100 [==============================] - 8s 84ms/step - loss: 0.6278 - acc: 0.6602 - val_loss: 0.6811 - val_acc: 0.6173\n",
      "Epoch 3/30\n",
      "100/100 [==============================] - 9s 87ms/step - loss: 0.5016 - acc: 0.7560 - val_loss: 0.9536 - val_acc: 0.6068\n",
      "Epoch 4/30\n",
      "100/100 [==============================] - 8s 83ms/step - loss: 0.4073 - acc: 0.8099 - val_loss: 0.6279 - val_acc: 0.6850\n",
      "Epoch 5/30\n",
      "100/100 [==============================] - 9s 87ms/step - loss: 0.3160 - acc: 0.8623 - val_loss: 0.8128 - val_acc: 0.6750\n",
      "Epoch 6/30\n",
      "100/100 [==============================] - 8s 84ms/step - loss: 0.2513 - acc: 0.8970 - val_loss: 0.6564 - val_acc: 0.7238\n",
      "Epoch 7/30\n",
      "100/100 [==============================] - 9s 85ms/step - loss: 0.1987 - acc: 0.9226 - val_loss: 0.7118 - val_acc: 0.7266\n",
      "Epoch 8/30\n",
      "100/100 [==============================] - 8s 82ms/step - loss: 0.1721 - acc: 0.9367 - val_loss: 0.6890 - val_acc: 0.7350\n",
      "Epoch 9/30\n",
      "100/100 [==============================] - 8s 84ms/step - loss: 0.1419 - acc: 0.9515 - val_loss: 0.7814 - val_acc: 0.7243\n",
      "Epoch 10/30\n",
      "100/100 [==============================] - 8s 80ms/step - loss: 0.1396 - acc: 0.9576 - val_loss: 0.7508 - val_acc: 0.7357\n",
      "Epoch 11/30\n",
      "100/100 [==============================] - 8s 83ms/step - loss: 0.0944 - acc: 0.9702 - val_loss: 0.8245 - val_acc: 0.7315\n",
      "Epoch 12/30\n",
      "100/100 [==============================] - 9s 85ms/step - loss: 0.0841 - acc: 0.9744 - val_loss: 0.9237 - val_acc: 0.7239\n",
      "Epoch 13/30\n",
      "100/100 [==============================] - 9s 86ms/step - loss: 0.0908 - acc: 0.9732 - val_loss: 0.9123 - val_acc: 0.7404\n",
      "Epoch 14/30\n",
      "100/100 [==============================] - 8s 84ms/step - loss: 0.1134 - acc: 0.9763 - val_loss: 0.9196 - val_acc: 0.7440\n",
      "Epoch 15/30\n",
      "100/100 [==============================] - 8s 84ms/step - loss: 0.0625 - acc: 0.9817 - val_loss: 3.8400 - val_acc: 0.5624\n",
      "Epoch 16/30\n",
      "100/100 [==============================] - 8s 83ms/step - loss: 0.0889 - acc: 0.9761 - val_loss: 0.9080 - val_acc: 0.7305\n",
      "Epoch 17/30\n",
      "100/100 [==============================] - 9s 89ms/step - loss: 0.0678 - acc: 0.9822 - val_loss: 0.9322 - val_acc: 0.7425\n",
      "Epoch 18/30\n",
      "100/100 [==============================] - 9s 86ms/step - loss: 0.0467 - acc: 0.9891 - val_loss: 1.3100 - val_acc: 0.7005\n",
      "Epoch 19/30\n",
      "100/100 [==============================] - 8s 84ms/step - loss: 0.1113 - acc: 0.9816 - val_loss: 1.0569 - val_acc: 0.7380\n",
      "Epoch 20/30\n",
      "100/100 [==============================] - 8s 82ms/step - loss: 0.0848 - acc: 0.9809 - val_loss: 0.9973 - val_acc: 0.7503\n",
      "Epoch 21/30\n",
      "100/100 [==============================] - 9s 87ms/step - loss: 0.0526 - acc: 0.9906 - val_loss: 1.1528 - val_acc: 0.7514\n",
      "Epoch 22/30\n",
      "100/100 [==============================] - 9s 86ms/step - loss: 0.0707 - acc: 0.9835 - val_loss: 1.0308 - val_acc: 0.7491\n",
      "Epoch 23/30\n",
      "100/100 [==============================] - 9s 86ms/step - loss: 0.0350 - acc: 0.9919 - val_loss: 1.1658 - val_acc: 0.7534\n",
      "Epoch 24/30\n",
      "100/100 [==============================] - 8s 84ms/step - loss: 0.0906 - acc: 0.9816 - val_loss: 0.9745 - val_acc: 0.7429\n",
      "Epoch 25/30\n",
      "100/100 [==============================] - 9s 89ms/step - loss: 0.0467 - acc: 0.9909 - val_loss: 1.1522 - val_acc: 0.7519\n",
      "Epoch 26/30\n",
      "100/100 [==============================] - 8s 83ms/step - loss: 0.0795 - acc: 0.9840 - val_loss: 1.0212 - val_acc: 0.7373\n",
      "Epoch 27/30\n",
      "100/100 [==============================] - 9s 90ms/step - loss: 0.0376 - acc: 0.9903 - val_loss: 1.1180 - val_acc: 0.7451\n",
      "Epoch 28/30\n",
      "100/100 [==============================] - 9s 91ms/step - loss: 0.0608 - acc: 0.9845 - val_loss: 1.0635 - val_acc: 0.7451\n",
      "Epoch 29/30\n",
      "100/100 [==============================] - 9s 88ms/step - loss: 0.0316 - acc: 0.9930 - val_loss: 1.1723 - val_acc: 0.7479\n",
      "Epoch 30/30\n",
      "100/100 [==============================] - 8s 82ms/step - loss: 0.0407 - acc: 0.9929 - val_loss: 1.2137 - val_acc: 0.7613\n"
     ]
    }
   ],
   "source": [
    "from tensorflow.keras.preprocessing import image_dataset_from_directory\n",
    "import tensorflow as tf\n",
    "import os\n",
    "\n",
    "\n",
    "train_dir = os.path.join(data_folder, 'training_set/training_set')\n",
    "validation_dir = os.path.join(data_folder, 'test_set/test_set')\n",
    "\n",
    "# train_generator = train_datagen.flow_from_directory(\n",
    "#     train_dir,\n",
    "#     target_size=(150, 150),\n",
    "#     batch_size=40,\n",
    "#     class_mode='binary')\n",
    "\n",
    "# validation_generator = test_datagen.flow_from_directory(\n",
    "#     validation_dir,\n",
    "#     target_size=(150, 150),\n",
    "#     batch_size=40,\n",
    "#     class_mode='binary')\n",
    "\n",
    "train_ds = image_dataset_from_directory(\n",
    "  train_dir,\n",
    "  seed=123,\n",
    "  image_size=(150, 150),\n",
    "  batch_size=120)\n",
    "\n",
    "val_ds = image_dataset_from_directory(\n",
    "  validation_dir,\n",
    "  seed=123,\n",
    "  image_size=(150, 150),\n",
    "  batch_size=120)\n",
    "\n",
    "AUTOTUNE = tf.data.AUTOTUNE\n",
    "print(AUTOTUNE)\n",
    "train_ds = train_ds.prefetch(1)\n",
    "val_ds = val_ds.prefetch(1)\n",
    "\n",
    "history = model.fit(\n",
    "    train_ds.repeat(), \n",
    "    steps_per_epoch=100,\n",
    "    epochs=30,\n",
    "    validation_data=val_ds.repeat(), \n",
    "    validation_steps=50)\n",
    "\n",
    "model.save('cats_and_dogs_small_1.h5')"
   ]
  },
  {
   "cell_type": "code",
   "execution_count": null,
   "metadata": {},
   "outputs": [],
   "source": []
  },
  {
   "cell_type": "code",
   "execution_count": null,
   "metadata": {},
   "outputs": [],
   "source": []
  }
 ],
 "metadata": {
  "kernelspec": {
   "display_name": "Python 3",
   "language": "python",
   "name": "python3"
  },
  "language_info": {
   "codemirror_mode": {
    "name": "ipython",
    "version": 3
   },
   "file_extension": ".py",
   "mimetype": "text/x-python",
   "name": "python",
   "nbconvert_exporter": "python",
   "pygments_lexer": "ipython3",
   "version": "3.6.9"
  }
 },
 "nbformat": 4,
 "nbformat_minor": 2
}
