{
 "cells": [
  {
   "cell_type": "code",
   "execution_count": 5,
   "metadata": {},
   "outputs": [
    {
     "name": "stdout",
     "output_type": "stream",
     "text": [
      "Done\n"
     ]
    }
   ],
   "source": [
    "from zipfile import ZipFile\n",
    "import os\n",
    "\n",
    "base_folder = \"./data\"\n",
    "file_name = os.path.join(base_folder, 'dnc.zip')\n",
    "data_folder = os.path.join(base_folder, 'dnc')\n",
    "\n",
    "with ZipFile(file_name, 'r') as zip:\n",
    "  zip.extractall(data_folder)\n",
    "\n",
    "print('Done')\n"
   ]
  },
  {
   "cell_type": "code",
   "execution_count": 25,
   "metadata": {},
   "outputs": [
    {
     "name": "stdout",
     "output_type": "stream",
     "text": [
      "Model: \"sequential_6\"\n",
      "_________________________________________________________________\n",
      "Layer (type)                 Output Shape              Param #   \n",
      "=================================================================\n",
      "conv2d_24 (Conv2D)           (None, 148, 148, 32)      896       \n",
      "_________________________________________________________________\n",
      "max_pooling2d_24 (MaxPooling (None, 74, 74, 32)        0         \n",
      "_________________________________________________________________\n",
      "conv2d_25 (Conv2D)           (None, 72, 72, 64)        18496     \n",
      "_________________________________________________________________\n",
      "max_pooling2d_25 (MaxPooling (None, 36, 36, 64)        0         \n",
      "_________________________________________________________________\n",
      "conv2d_26 (Conv2D)           (None, 34, 34, 128)       73856     \n",
      "_________________________________________________________________\n",
      "max_pooling2d_26 (MaxPooling (None, 17, 17, 128)       0         \n",
      "_________________________________________________________________\n",
      "conv2d_27 (Conv2D)           (None, 15, 15, 128)       147584    \n",
      "_________________________________________________________________\n",
      "max_pooling2d_27 (MaxPooling (None, 7, 7, 128)         0         \n",
      "_________________________________________________________________\n",
      "flatten_6 (Flatten)          (None, 6272)              0         \n",
      "_________________________________________________________________\n",
      "dense_12 (Dense)             (None, 512)               3211776   \n",
      "_________________________________________________________________\n",
      "dense_13 (Dense)             (None, 1)                 513       \n",
      "=================================================================\n",
      "Total params: 3,453,121\n",
      "Trainable params: 3,453,121\n",
      "Non-trainable params: 0\n",
      "_________________________________________________________________\n"
     ]
    }
   ],
   "source": [
    "from keras import models\n",
    "from keras import layers\n",
    "\n",
    "model = models.Sequential()\n",
    "\n",
    "model.add(layers.Conv2D(32, (3, 3), activation='relu', input_shape=(150, 150, 3)))\n",
    "model.add(layers.MaxPooling2D((2, 2)))\n",
    "model.add(layers.Conv2D(64, (3, 3), activation='relu'))\n",
    "model.add(layers.MaxPooling2D((2, 2)))\n",
    "model.add(layers.Conv2D(128, (3, 3), activation='relu'))\n",
    "model.add(layers.MaxPooling2D((2, 2)))\n",
    "model.add(layers.Conv2D(128, (3, 3), activation='relu'))\n",
    "model.add(layers.MaxPooling2D((2, 2)))\n",
    "model.add(layers.Flatten())\n",
    "model.add(layers.Dense(512, activation='relu'))\n",
    "model.add(layers.Dense(1, activation='sigmoid'))\n",
    "\n",
    "model.summary()"
   ]
  },
  {
   "cell_type": "code",
   "execution_count": 26,
   "metadata": {},
   "outputs": [],
   "source": [
    "from tensorflow.keras import optimizers\n",
    "\n",
    "\n",
    "model.compile(loss='binary_crossentropy', \n",
    "             optimizer=optimizers.RMSprop(learning_rate=1e-4),\n",
    "             metrics=['acc'])"
   ]
  },
  {
   "cell_type": "code",
   "execution_count": 27,
   "metadata": {
    "scrolled": true
   },
   "outputs": [
    {
     "name": "stdout",
     "output_type": "stream",
     "text": [
      "Found 8005 images belonging to 2 classes.\n",
      "Found 2023 images belonging to 2 classes.\n",
      "Epoch 1/30\n",
      "100/100 [==============================] - 13s 119ms/step - loss: 0.6972 - acc: 0.5516 - val_loss: 0.6704 - val_acc: 0.6180\n",
      "Epoch 2/30\n",
      "100/100 [==============================] - 12s 118ms/step - loss: 0.6583 - acc: 0.6040 - val_loss: 0.6259 - val_acc: 0.6715\n",
      "Epoch 3/30\n",
      "100/100 [==============================] - 12s 118ms/step - loss: 0.6188 - acc: 0.6456 - val_loss: 0.5948 - val_acc: 0.7040\n",
      "Epoch 4/30\n",
      "100/100 [==============================] - 12s 118ms/step - loss: 0.5986 - acc: 0.6787 - val_loss: 0.6111 - val_acc: 0.6295\n",
      "Epoch 5/30\n",
      "100/100 [==============================] - 12s 116ms/step - loss: 0.5619 - acc: 0.7132 - val_loss: 0.6965 - val_acc: 0.5835\n",
      "Epoch 6/30\n",
      "100/100 [==============================] - 12s 118ms/step - loss: 0.5281 - acc: 0.7350 - val_loss: 0.6709 - val_acc: 0.6375\n",
      "Epoch 7/30\n",
      "100/100 [==============================] - 12s 123ms/step - loss: 0.5323 - acc: 0.7358 - val_loss: 0.5180 - val_acc: 0.7495\n",
      "Epoch 8/30\n",
      "100/100 [==============================] - 13s 129ms/step - loss: 0.4967 - acc: 0.7588 - val_loss: 0.5155 - val_acc: 0.7430\n",
      "Epoch 9/30\n",
      "100/100 [==============================] - 13s 126ms/step - loss: 0.4804 - acc: 0.7639 - val_loss: 0.5020 - val_acc: 0.7585\n",
      "Epoch 10/30\n",
      "100/100 [==============================] - 12s 119ms/step - loss: 0.4620 - acc: 0.7843 - val_loss: 0.5293 - val_acc: 0.7265\n",
      "Epoch 11/30\n",
      "100/100 [==============================] - 12s 119ms/step - loss: 0.4536 - acc: 0.7832 - val_loss: 0.4841 - val_acc: 0.7710\n",
      "Epoch 12/30\n",
      "100/100 [==============================] - 12s 119ms/step - loss: 0.4422 - acc: 0.7935 - val_loss: 0.4709 - val_acc: 0.7825\n",
      "Epoch 13/30\n",
      "100/100 [==============================] - 12s 120ms/step - loss: 0.4382 - acc: 0.7851 - val_loss: 0.4648 - val_acc: 0.7800\n",
      "Epoch 14/30\n",
      "100/100 [==============================] - 12s 117ms/step - loss: 0.4249 - acc: 0.8055 - val_loss: 0.4628 - val_acc: 0.7855\n",
      "Epoch 15/30\n",
      "100/100 [==============================] - 12s 118ms/step - loss: 0.4225 - acc: 0.8083 - val_loss: 0.4554 - val_acc: 0.7870\n",
      "Epoch 16/30\n",
      "100/100 [==============================] - 12s 119ms/step - loss: 0.4014 - acc: 0.8232 - val_loss: 0.4527 - val_acc: 0.7840\n",
      "Epoch 17/30\n",
      "100/100 [==============================] - 12s 119ms/step - loss: 0.3862 - acc: 0.8305 - val_loss: 0.4503 - val_acc: 0.7985\n",
      "Epoch 18/30\n",
      "100/100 [==============================] - 12s 119ms/step - loss: 0.3788 - acc: 0.8290 - val_loss: 0.4320 - val_acc: 0.8075\n",
      "Epoch 19/30\n",
      "100/100 [==============================] - 12s 118ms/step - loss: 0.3626 - acc: 0.8388 - val_loss: 0.5319 - val_acc: 0.7495\n",
      "Epoch 20/30\n",
      "100/100 [==============================] - 12s 120ms/step - loss: 0.3500 - acc: 0.8474 - val_loss: 0.4993 - val_acc: 0.7710\n",
      "Epoch 21/30\n",
      "100/100 [==============================] - 12s 120ms/step - loss: 0.3384 - acc: 0.8547 - val_loss: 0.4308 - val_acc: 0.8150\n",
      "Epoch 22/30\n",
      "100/100 [==============================] - 12s 121ms/step - loss: 0.3350 - acc: 0.8527 - val_loss: 0.4598 - val_acc: 0.7940\n",
      "Epoch 23/30\n",
      "100/100 [==============================] - 12s 125ms/step - loss: 0.3290 - acc: 0.8618 - val_loss: 0.4377 - val_acc: 0.8005\n",
      "Epoch 24/30\n",
      "100/100 [==============================] - 12s 123ms/step - loss: 0.3152 - acc: 0.8658 - val_loss: 0.4457 - val_acc: 0.7965\n",
      "Epoch 25/30\n",
      "100/100 [==============================] - 13s 127ms/step - loss: 0.3071 - acc: 0.8663 - val_loss: 0.4436 - val_acc: 0.8030\n",
      "Epoch 26/30\n",
      "100/100 [==============================] - 13s 129ms/step - loss: 0.2995 - acc: 0.8712 - val_loss: 0.4205 - val_acc: 0.8185\n",
      "Epoch 27/30\n",
      "100/100 [==============================] - 13s 135ms/step - loss: 0.2775 - acc: 0.8830 - val_loss: 0.4549 - val_acc: 0.8100\n",
      "Epoch 28/30\n",
      "100/100 [==============================] - 12s 121ms/step - loss: 0.2767 - acc: 0.8820 - val_loss: 0.4515 - val_acc: 0.7875\n",
      "Epoch 29/30\n",
      "100/100 [==============================] - 12s 122ms/step - loss: 0.2546 - acc: 0.8935 - val_loss: 0.4544 - val_acc: 0.8070\n",
      "Epoch 30/30\n",
      "100/100 [==============================] - 13s 128ms/step - loss: 0.2557 - acc: 0.8942 - val_loss: 0.4308 - val_acc: 0.8225\n"
     ]
    }
   ],
   "source": [
    "from keras.preprocessing.image import ImageDataGenerator\n",
    "import os\n",
    "\n",
    "train_datagen = ImageDataGenerator(rescale=1./255)\n",
    "test_datagen = ImageDataGenerator(rescale=1./255)\n",
    "\n",
    "train_dir = os.path.join(data_folder, 'training_set/training_set')\n",
    "validation_dir = os.path.join(data_folder, 'test_set/test_set')\n",
    "\n",
    "train_generator = train_datagen.flow_from_directory(\n",
    "    train_dir,\n",
    "    target_size=(150, 150),\n",
    "    batch_size=40,\n",
    "    class_mode='binary')\n",
    "\n",
    "validation_generator = test_datagen.flow_from_directory(\n",
    "    validation_dir,\n",
    "    target_size=(150, 150),\n",
    "    batch_size=40,\n",
    "    class_mode='binary')\n",
    "\n",
    "history = model.fit(\n",
    "    train_generator, \n",
    "    steps_per_epoch=100,\n",
    "    epochs=30,\n",
    "    validation_data=validation_generator, \n",
    "    validation_steps=50)\n",
    "\n",
    "model.save('cats_and_dogs_small_1.h5')"
   ]
  },
  {
   "cell_type": "code",
   "execution_count": null,
   "metadata": {},
   "outputs": [],
   "source": []
  }
 ],
 "metadata": {
  "kernelspec": {
   "display_name": "Python 3",
   "language": "python",
   "name": "python3"
  },
  "language_info": {
   "codemirror_mode": {
    "name": "ipython",
    "version": 3
   },
   "file_extension": ".py",
   "mimetype": "text/x-python",
   "name": "python",
   "nbconvert_exporter": "python",
   "pygments_lexer": "ipython3",
   "version": "3.6.9"
  }
 },
 "nbformat": 4,
 "nbformat_minor": 2
}
